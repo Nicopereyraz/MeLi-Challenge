{
 "cells": [
  {
   "cell_type": "code",
   "execution_count": 1,
   "id": "2db99859",
   "metadata": {},
   "outputs": [],
   "source": [
    "import pandas as pd\n",
    "import numpy as np"
   ]
  },
  {
   "cell_type": "code",
   "execution_count": 3,
   "id": "c649d288",
   "metadata": {},
   "outputs": [],
   "source": [
    "datos = pd.read_csv('items_titles.csv')"
   ]
  },
  {
   "cell_type": "code",
   "execution_count": 4,
   "id": "916285db",
   "metadata": {},
   "outputs": [
    {
     "data": {
      "text/html": [
       "<div>\n",
       "<style scoped>\n",
       "    .dataframe tbody tr th:only-of-type {\n",
       "        vertical-align: middle;\n",
       "    }\n",
       "\n",
       "    .dataframe tbody tr th {\n",
       "        vertical-align: top;\n",
       "    }\n",
       "\n",
       "    .dataframe thead th {\n",
       "        text-align: right;\n",
       "    }\n",
       "</style>\n",
       "<table border=\"1\" class=\"dataframe\">\n",
       "  <thead>\n",
       "    <tr style=\"text-align: right;\">\n",
       "      <th></th>\n",
       "      <th>ITE_ITEM_TITLE</th>\n",
       "    </tr>\n",
       "  </thead>\n",
       "  <tbody>\n",
       "    <tr>\n",
       "      <th>0</th>\n",
       "      <td>Tênis Ascension Posh Masculino - Preto E Verme...</td>\n",
       "    </tr>\n",
       "    <tr>\n",
       "      <th>1</th>\n",
       "      <td>Tenis Para Caminhada Super Levinho Spider Corr...</td>\n",
       "    </tr>\n",
       "    <tr>\n",
       "      <th>2</th>\n",
       "      <td>Tênis Feminino Le Parc Hocks Black/ice Origina...</td>\n",
       "    </tr>\n",
       "    <tr>\n",
       "      <th>3</th>\n",
       "      <td>Tênis Olympikus Esportivo Academia Nova Tendên...</td>\n",
       "    </tr>\n",
       "    <tr>\n",
       "      <th>4</th>\n",
       "      <td>Inteligente Led Bicicleta Tauda Luz Usb Bicicl...</td>\n",
       "    </tr>\n",
       "  </tbody>\n",
       "</table>\n",
       "</div>"
      ],
      "text/plain": [
       "                                      ITE_ITEM_TITLE\n",
       "0  Tênis Ascension Posh Masculino - Preto E Verme...\n",
       "1  Tenis Para Caminhada Super Levinho Spider Corr...\n",
       "2  Tênis Feminino Le Parc Hocks Black/ice Origina...\n",
       "3  Tênis Olympikus Esportivo Academia Nova Tendên...\n",
       "4  Inteligente Led Bicicleta Tauda Luz Usb Bicicl..."
      ]
     },
     "execution_count": 4,
     "metadata": {},
     "output_type": "execute_result"
    }
   ],
   "source": [
    "datos.head()"
   ]
  },
  {
   "cell_type": "code",
   "execution_count": 7,
   "id": "c6754f18",
   "metadata": {},
   "outputs": [
    {
     "data": {
      "text/plain": [
       "(30000, 1)"
      ]
     },
     "execution_count": 7,
     "metadata": {},
     "output_type": "execute_result"
    }
   ],
   "source": [
    "datos.shape"
   ]
  },
  {
   "cell_type": "code",
   "execution_count": 5,
   "id": "904a55c6",
   "metadata": {},
   "outputs": [],
   "source": [
    "test = pd.read_csv('items_titles_test.csv')"
   ]
  },
  {
   "cell_type": "code",
   "execution_count": 6,
   "id": "c8f3b639",
   "metadata": {},
   "outputs": [
    {
     "data": {
      "text/html": [
       "<div>\n",
       "<style scoped>\n",
       "    .dataframe tbody tr th:only-of-type {\n",
       "        vertical-align: middle;\n",
       "    }\n",
       "\n",
       "    .dataframe tbody tr th {\n",
       "        vertical-align: top;\n",
       "    }\n",
       "\n",
       "    .dataframe thead th {\n",
       "        text-align: right;\n",
       "    }\n",
       "</style>\n",
       "<table border=\"1\" class=\"dataframe\">\n",
       "  <thead>\n",
       "    <tr style=\"text-align: right;\">\n",
       "      <th></th>\n",
       "      <th>ITE_ITEM_TITLE</th>\n",
       "    </tr>\n",
       "  </thead>\n",
       "  <tbody>\n",
       "    <tr>\n",
       "      <th>0</th>\n",
       "      <td>Tênis Olympikus Esporte Valente - Masculino Kids</td>\n",
       "    </tr>\n",
       "    <tr>\n",
       "      <th>1</th>\n",
       "      <td>Bicicleta Barra Forte Samy C/ 6 Marchas Cubo C...</td>\n",
       "    </tr>\n",
       "    <tr>\n",
       "      <th>2</th>\n",
       "      <td>Tênis Usthemp Slip-on Temático - Labrador 2</td>\n",
       "    </tr>\n",
       "    <tr>\n",
       "      <th>3</th>\n",
       "      <td>Tênis Casual Feminino Moleca Tecido Tie Dye</td>\n",
       "    </tr>\n",
       "    <tr>\n",
       "      <th>4</th>\n",
       "      <td>Tênis Star Baby Sapatinho Conforto + Brinde</td>\n",
       "    </tr>\n",
       "  </tbody>\n",
       "</table>\n",
       "</div>"
      ],
      "text/plain": [
       "                                      ITE_ITEM_TITLE\n",
       "0   Tênis Olympikus Esporte Valente - Masculino Kids\n",
       "1  Bicicleta Barra Forte Samy C/ 6 Marchas Cubo C...\n",
       "2       Tênis Usthemp Slip-on Temático - Labrador 2\n",
       "3        Tênis Casual Feminino Moleca Tecido Tie Dye\n",
       "4        Tênis Star Baby Sapatinho Conforto + Brinde"
      ]
     },
     "execution_count": 6,
     "metadata": {},
     "output_type": "execute_result"
    }
   ],
   "source": [
    "test.head()"
   ]
  },
  {
   "cell_type": "code",
   "execution_count": 8,
   "id": "a2d2a5c9",
   "metadata": {},
   "outputs": [
    {
     "data": {
      "text/plain": [
       "(10000, 1)"
      ]
     },
     "execution_count": 8,
     "metadata": {},
     "output_type": "execute_result"
    }
   ],
   "source": [
    "test.shape"
   ]
  },
  {
   "cell_type": "code",
   "execution_count": 59,
   "id": "d1dac95a",
   "metadata": {},
   "outputs": [],
   "source": [
    "#Carga de librerias\n",
    "import os, re, json\n",
    "#from pandas import DataFrame\n",
    "from nltk.tokenize import RegexpTokenizer\n",
    "#from nltk.corpus import stopwords\n",
    "from gensim.corpora import Dictionary, MmCorpus\n",
    "from itertools import chain\n",
    "from unidecode import unidecode\n",
    "from gensim.models import LdaModel"
   ]
  },
  {
   "cell_type": "code",
   "execution_count": 150,
   "id": "7f1a693b",
   "metadata": {},
   "outputs": [],
   "source": [
    "def quitar_numeros(texto):\n",
    "    return re.sub(\"([0-9])\", \"\",texto)\n",
    "\n",
    "def pasar_a_minusculas(texto):\n",
    "    return texto.lower()\n",
    "\n",
    "def tokenizar_palabras(texto):\n",
    "    tokenizer = RegexpTokenizer(r'\\w+')\n",
    "    return tokenizer.tokenize(texto)\n",
    "\n",
    "def remove_accents_word(texto):\n",
    "    return unidecode(texto)\n",
    "\n",
    "def dropeo_palabras(lista,n=2):\n",
    "    [lista.remove(x) for x in lista if len(x)<n]\n",
    "    [lista.remove(x) for x in lista if len(x)<n]\n",
    "    [lista.remove(x) for x in lista if len(x)<n]\n",
    "    return lista"
   ]
  },
  {
   "cell_type": "code",
   "execution_count": 152,
   "id": "49afa6cd",
   "metadata": {},
   "outputs": [],
   "source": [
    "def pipeline_data_prep_nlp(texto):\n",
    "    texto = quitar_numeros(texto)\n",
    "    texto = pasar_a_minusculas(texto)\n",
    "    texto = remove_accents_word(texto)\n",
    "    texto = tokenizar_palabras(texto)\n",
    "    texto = dropeo_palabras(texto)\n",
    "    return texto"
   ]
  },
  {
   "cell_type": "code",
   "execution_count": 153,
   "id": "8989389e",
   "metadata": {},
   "outputs": [],
   "source": [
    "datos['docs'] = datos['ITE_ITEM_TITLE'].apply(lambda x: pipeline_data_prep_nlp(x))"
   ]
  },
  {
   "cell_type": "code",
   "execution_count": 55,
   "id": "e4b687f2",
   "metadata": {},
   "outputs": [],
   "source": [
    "datos.drop(['docs'],axis=1,inplace=True)"
   ]
  },
  {
   "cell_type": "code",
   "execution_count": 154,
   "id": "3b125f25",
   "metadata": {
    "scrolled": false
   },
   "outputs": [
    {
     "data": {
      "text/html": [
       "<div>\n",
       "<style scoped>\n",
       "    .dataframe tbody tr th:only-of-type {\n",
       "        vertical-align: middle;\n",
       "    }\n",
       "\n",
       "    .dataframe tbody tr th {\n",
       "        vertical-align: top;\n",
       "    }\n",
       "\n",
       "    .dataframe thead th {\n",
       "        text-align: right;\n",
       "    }\n",
       "</style>\n",
       "<table border=\"1\" class=\"dataframe\">\n",
       "  <thead>\n",
       "    <tr style=\"text-align: right;\">\n",
       "      <th></th>\n",
       "      <th>ITE_ITEM_TITLE</th>\n",
       "      <th>docs</th>\n",
       "      <th>topico</th>\n",
       "    </tr>\n",
       "  </thead>\n",
       "  <tbody>\n",
       "    <tr>\n",
       "      <th>490</th>\n",
       "      <td>Sapatenis Ferricelli Top Você Mais Alto 4cm Co...</td>\n",
       "      <td>[sapatenis, ferricelli, top, voce, mais, alto,...</td>\n",
       "      <td>[(0, 0.21773623), (1, 0.76749796), (2, 0.01476...</td>\n",
       "    </tr>\n",
       "    <tr>\n",
       "      <th>491</th>\n",
       "      <td>Tênis Feminino All Preto C/branco Plataforma R...</td>\n",
       "      <td>[tenis, feminino, all, preto, branco, platafor...</td>\n",
       "      <td>[(0, 0.29629523), (1, 0.492587), (2, 0.21111782)]</td>\n",
       "    </tr>\n",
       "    <tr>\n",
       "      <th>492</th>\n",
       "      <td>Tênis Redley Ir10 Monocromo All Black Preto</td>\n",
       "      <td>[tenis, redley, ir, monocromo, all, black, preto]</td>\n",
       "      <td>[(0, 0.43107957), (1, 0.034382824), (2, 0.5345...</td>\n",
       "    </tr>\n",
       "    <tr>\n",
       "      <th>493</th>\n",
       "      <td>Sapatênis Casual Masculino  Kit 3 Pares Frete ...</td>\n",
       "      <td>[sapatenis, casual, masculino, kit, pares, fre...</td>\n",
       "      <td>[(0, 0.66541356), (1, 0.31982586), (2, 0.01476...</td>\n",
       "    </tr>\n",
       "    <tr>\n",
       "      <th>494</th>\n",
       "      <td>Tênis Feminino Conforto Macio Leve Olympikus F...</td>\n",
       "      <td>[tenis, feminino, conforto, macio, leve, olymp...</td>\n",
       "      <td>[(0, 0.95081466), (1, 0.029858956), (2, 0.0193...</td>\n",
       "    </tr>\n",
       "    <tr>\n",
       "      <th>495</th>\n",
       "      <td>Tênis Olympikus Voa Masculino Azul Marinho - 5688</td>\n",
       "      <td>[tenis, olympikus, voa, masculino, azul, marinho]</td>\n",
       "      <td>[(0, 0.94275177), (1, 0.034430824), (2, 0.0228...</td>\n",
       "    </tr>\n",
       "    <tr>\n",
       "      <th>496</th>\n",
       "      <td>Tênis Rainha Drive Masculino - Preto</td>\n",
       "      <td>[tenis, rainha, drive, masculino, preto]</td>\n",
       "      <td>[(0, 0.6676236), (1, 0.04221827), (2, 0.290158...</td>\n",
       "    </tr>\n",
       "    <tr>\n",
       "      <th>497</th>\n",
       "      <td>Tenis Corrida Super Confortavel</td>\n",
       "      <td>[tenis, corrida, super, confortavel]</td>\n",
       "      <td>[(0, 0.9096453), (1, 0.054539695), (2, 0.03581...</td>\n",
       "    </tr>\n",
       "    <tr>\n",
       "      <th>498</th>\n",
       "      <td>Tenis Feminino Vizzano Branco 1333.201 Promoçã...</td>\n",
       "      <td>[tenis, feminino, vizzano, branco, promocao, c...</td>\n",
       "      <td>[(0, 0.03530911), (1, 0.94188374), (2, 0.02280...</td>\n",
       "    </tr>\n",
       "    <tr>\n",
       "      <th>499</th>\n",
       "      <td>Kit 5 Tenis Masculino Yzy Leve Top + Carteira ...</td>\n",
       "      <td>[kit, tenis, masculino, yzy, leve, top, cartei...</td>\n",
       "      <td>[(0, 0.9580807), (1, 0.025190847), (2, 0.01672...</td>\n",
       "    </tr>\n",
       "    <tr>\n",
       "      <th>500</th>\n",
       "      <td>Tv 47 LG Escarlate Vermelha Lcd</td>\n",
       "      <td>[tv, lg, escarlate, vermelha, lcd]</td>\n",
       "      <td>[(0, 0.04245015), (1, 0.04180236), (2, 0.91574...</td>\n",
       "    </tr>\n",
       "    <tr>\n",
       "      <th>501</th>\n",
       "      <td>Tênis Sapatênis Feminino Chiquiteira Chiqui/78...</td>\n",
       "      <td>[tenis, sapatenis, feminino, chiquiteira, chiqui]</td>\n",
       "      <td>[(0, 0.05478336), (1, 0.9093965), (2, 0.035820...</td>\n",
       "    </tr>\n",
       "    <tr>\n",
       "      <th>502</th>\n",
       "      <td>Sapatenis Lacoste Original</td>\n",
       "      <td>[sapatenis, lacoste, original]</td>\n",
       "      <td>[(0, 0.056173924), (1, 0.5392081), (2, 0.40461...</td>\n",
       "    </tr>\n",
       "    <tr>\n",
       "      <th>503</th>\n",
       "      <td>Cinta Trava Microtex Presilha Sapatilha Fizik ...</td>\n",
       "      <td>[cinta, trava, microtex, presilha, sapatilha, ...</td>\n",
       "      <td>[(0, 0.034741215), (1, 0.034210984), (2, 0.931...</td>\n",
       "    </tr>\n",
       "    <tr>\n",
       "      <th>504</th>\n",
       "      <td>Tênis Olimpicos Cristal 896 Masculino Running ...</td>\n",
       "      <td>[tenis, olimpicos, cristal, masculino, running...</td>\n",
       "      <td>[(0, 0.95159954), (1, 0.029094957), (2, 0.0193...</td>\n",
       "    </tr>\n",
       "    <tr>\n",
       "      <th>505</th>\n",
       "      <td>Tenis Feminino Iate Moleca Sapato Feminino Con...</td>\n",
       "      <td>[tenis, feminino, iate, moleca, sapato, femini...</td>\n",
       "      <td>[(0, 0.025636943), (1, 0.95763654), (2, 0.0167...</td>\n",
       "    </tr>\n",
       "    <tr>\n",
       "      <th>506</th>\n",
       "      <td>Tênis De Menina Fashionista Moda Inspiração Mo...</td>\n",
       "      <td>[tenis, de, menina, fashionista, moda, inspira...</td>\n",
       "      <td>[(0, 0.4019106), (1, 0.5702002), (2, 0.0278892...</td>\n",
       "    </tr>\n",
       "    <tr>\n",
       "      <th>507</th>\n",
       "      <td>Bicicleta Cannondale Trail 6 Feminina Verde 2021</td>\n",
       "      <td>[bicicleta, cannondale, trail, feminina, verde]</td>\n",
       "      <td>[(0, 0.03482287), (1, 0.034240633), (2, 0.9309...</td>\n",
       "    </tr>\n",
       "    <tr>\n",
       "      <th>508</th>\n",
       "      <td>Bici Tsw Hunch Plus 27v 29x19 Az/pt Nac.</td>\n",
       "      <td>[bici, tsw, hunch, plus, az, pt, nac]</td>\n",
       "      <td>[(0, 0.030292124), (1, 0.028959543), (2, 0.940...</td>\n",
       "    </tr>\n",
       "    <tr>\n",
       "      <th>509</th>\n",
       "      <td>Tênis Granola Kids - Gambo</td>\n",
       "      <td>[tenis, granola, kids, gambo]</td>\n",
       "      <td>[(0, 0.4770722), (1, 0.47274157), (2, 0.050186...</td>\n",
       "    </tr>\n",
       "  </tbody>\n",
       "</table>\n",
       "</div>"
      ],
      "text/plain": [
       "                                        ITE_ITEM_TITLE  \\\n",
       "490  Sapatenis Ferricelli Top Você Mais Alto 4cm Co...   \n",
       "491  Tênis Feminino All Preto C/branco Plataforma R...   \n",
       "492        Tênis Redley Ir10 Monocromo All Black Preto   \n",
       "493  Sapatênis Casual Masculino  Kit 3 Pares Frete ...   \n",
       "494  Tênis Feminino Conforto Macio Leve Olympikus F...   \n",
       "495  Tênis Olympikus Voa Masculino Azul Marinho - 5688   \n",
       "496               Tênis Rainha Drive Masculino - Preto   \n",
       "497                    Tenis Corrida Super Confortavel   \n",
       "498  Tenis Feminino Vizzano Branco 1333.201 Promoçã...   \n",
       "499  Kit 5 Tenis Masculino Yzy Leve Top + Carteira ...   \n",
       "500                    Tv 47 LG Escarlate Vermelha Lcd   \n",
       "501  Tênis Sapatênis Feminino Chiquiteira Chiqui/78...   \n",
       "502                         Sapatenis Lacoste Original   \n",
       "503  Cinta Trava Microtex Presilha Sapatilha Fizik ...   \n",
       "504  Tênis Olimpicos Cristal 896 Masculino Running ...   \n",
       "505  Tenis Feminino Iate Moleca Sapato Feminino Con...   \n",
       "506  Tênis De Menina Fashionista Moda Inspiração Mo...   \n",
       "507   Bicicleta Cannondale Trail 6 Feminina Verde 2021   \n",
       "508           Bici Tsw Hunch Plus 27v 29x19 Az/pt Nac.   \n",
       "509                         Tênis Granola Kids - Gambo   \n",
       "\n",
       "                                                  docs  \\\n",
       "490  [sapatenis, ferricelli, top, voce, mais, alto,...   \n",
       "491  [tenis, feminino, all, preto, branco, platafor...   \n",
       "492  [tenis, redley, ir, monocromo, all, black, preto]   \n",
       "493  [sapatenis, casual, masculino, kit, pares, fre...   \n",
       "494  [tenis, feminino, conforto, macio, leve, olymp...   \n",
       "495  [tenis, olympikus, voa, masculino, azul, marinho]   \n",
       "496           [tenis, rainha, drive, masculino, preto]   \n",
       "497               [tenis, corrida, super, confortavel]   \n",
       "498  [tenis, feminino, vizzano, branco, promocao, c...   \n",
       "499  [kit, tenis, masculino, yzy, leve, top, cartei...   \n",
       "500                 [tv, lg, escarlate, vermelha, lcd]   \n",
       "501  [tenis, sapatenis, feminino, chiquiteira, chiqui]   \n",
       "502                     [sapatenis, lacoste, original]   \n",
       "503  [cinta, trava, microtex, presilha, sapatilha, ...   \n",
       "504  [tenis, olimpicos, cristal, masculino, running...   \n",
       "505  [tenis, feminino, iate, moleca, sapato, femini...   \n",
       "506  [tenis, de, menina, fashionista, moda, inspira...   \n",
       "507    [bicicleta, cannondale, trail, feminina, verde]   \n",
       "508              [bici, tsw, hunch, plus, az, pt, nac]   \n",
       "509                      [tenis, granola, kids, gambo]   \n",
       "\n",
       "                                                topico  \n",
       "490  [(0, 0.21773623), (1, 0.76749796), (2, 0.01476...  \n",
       "491  [(0, 0.29629523), (1, 0.492587), (2, 0.21111782)]  \n",
       "492  [(0, 0.43107957), (1, 0.034382824), (2, 0.5345...  \n",
       "493  [(0, 0.66541356), (1, 0.31982586), (2, 0.01476...  \n",
       "494  [(0, 0.95081466), (1, 0.029858956), (2, 0.0193...  \n",
       "495  [(0, 0.94275177), (1, 0.034430824), (2, 0.0228...  \n",
       "496  [(0, 0.6676236), (1, 0.04221827), (2, 0.290158...  \n",
       "497  [(0, 0.9096453), (1, 0.054539695), (2, 0.03581...  \n",
       "498  [(0, 0.03530911), (1, 0.94188374), (2, 0.02280...  \n",
       "499  [(0, 0.9580807), (1, 0.025190847), (2, 0.01672...  \n",
       "500  [(0, 0.04245015), (1, 0.04180236), (2, 0.91574...  \n",
       "501  [(0, 0.05478336), (1, 0.9093965), (2, 0.035820...  \n",
       "502  [(0, 0.056173924), (1, 0.5392081), (2, 0.40461...  \n",
       "503  [(0, 0.034741215), (1, 0.034210984), (2, 0.931...  \n",
       "504  [(0, 0.95159954), (1, 0.029094957), (2, 0.0193...  \n",
       "505  [(0, 0.025636943), (1, 0.95763654), (2, 0.0167...  \n",
       "506  [(0, 0.4019106), (1, 0.5702002), (2, 0.0278892...  \n",
       "507  [(0, 0.03482287), (1, 0.034240633), (2, 0.9309...  \n",
       "508  [(0, 0.030292124), (1, 0.028959543), (2, 0.940...  \n",
       "509  [(0, 0.4770722), (1, 0.47274157), (2, 0.050186...  "
      ]
     },
     "execution_count": 154,
     "metadata": {},
     "output_type": "execute_result"
    }
   ],
   "source": [
    "datos.iloc[490:510]"
   ]
  },
  {
   "cell_type": "code",
   "execution_count": 155,
   "id": "d2ee5435",
   "metadata": {},
   "outputs": [],
   "source": [
    "#Pipeline bag of words\n",
    "def pipeline_bag_of_words(datos, guardar=False, no_below=100, no_above=0.9):\n",
    "    dictionary = Dictionary(datos['docs'].to_list())\n",
    "    # Filter out words that occur less than 20 documents, or more than 50% of the documents.\n",
    "    # TODO explorar TFidf vectorizer\n",
    "    \n",
    "    if no_below and no_above:\n",
    "        dictionary.filter_extremes(no_below, no_above)\n",
    "    \n",
    "    corpus = [dictionary.doc2bow(doc) for doc in datos['docs']]\n",
    "    result = {\n",
    "        \"corpus\": corpus,\n",
    "        \"dictionary\": dictionary,\n",
    "        \"nro_tokens_unicos\": len(dictionary),\n",
    "        \"nro_documentos\": len(corpus)\n",
    "    }\n",
    "    bow = dictionary.doc2bow(list(chain(*datos['docs'].to_list())))\n",
    "    \n",
    "    frecuencias = dict()\n",
    "\n",
    "    id2token = dictionary.id2token\n",
    "\n",
    "    if not id2token:\n",
    "        # En caso de bug en el que id2token retorne un diccionario vacio\n",
    "        # Se crea a partir de token2id\n",
    "        id2token = {v: k for k ,v in dictionary.token2id.items()}\n",
    "    \n",
    "    for key, freq in bow:\n",
    "        frecuencias[id2token.get(key)] = freq\n",
    "    \n",
    "    # Ordena de mayor a menor frecuencia\n",
    "    frecuencias = dict(sorted(frecuencias.items(), key=lambda x:x[1], reverse=True))\n",
    "\n",
    "    result[\"id2token\"] = id2token\n",
    "    result[\"frecuencias\"] = frecuencias\n",
    "\n",
    "    if guardar:\n",
    "        with open(\"./modelos/\"+Version+\"/bag_of_word_freqs\"+Version+\".json\", mode=\"w\", encoding=\"utf-8\") as f:\n",
    "            f.writelines(json.dumps(frecuencias, ensure_ascii=False, indent=4))\n",
    "        print(\"Archivo guardado\")\n",
    "    #Agregue que guarde en la carpeta modelos la frecuencia de palabras\n",
    "    return result"
   ]
  },
  {
   "cell_type": "code",
   "execution_count": 163,
   "id": "ea84bbdb",
   "metadata": {},
   "outputs": [],
   "source": [
    "#Entrenamiento de modelo\n",
    "def entrenar_lda(rdo_pipe_bow, save_path=None):\n",
    "    #TODO Considerar el tiempo como una variable\n",
    "    # https://markroxor.github.io/gensim/static/notebooks/ldaseqmodel.html\n",
    "    \n",
    "    # Set training parameters.\n",
    "    num_topics = 3\n",
    "    chunksize = 2000 #ERA 2000\n",
    "    passes = 10\n",
    "    iterations = 100\n",
    "    eval_every = None  # Don't evaluate model perplexity, takes too much time.\n",
    "\n",
    "    modelo = LdaModel(\n",
    "        corpus=rdo_pipe_bow[\"corpus\"],\n",
    "        id2word=rdo_pipe_bow[\"id2token\"],\n",
    "        chunksize=chunksize,\n",
    "        alpha='auto',\n",
    "        eta='auto',\n",
    "        iterations=iterations,\n",
    "        num_topics=num_topics,\n",
    "        passes=passes,\n",
    "        eval_every=eval_every\n",
    "    )\n",
    "\n",
    "   #top_topics = modelo.top_topics(rdo_pipe_bow[\"corpus\"])\n",
    "\n",
    "    # # Average topic coherence is the sum of topic coherences of all topics, divided by the number of topics.\n",
    "    # avg_topic_coherence = sum([t[1] for t in top_topics]) / num_topics\n",
    "    # print('Average topic coherence: %.4f.' % avg_topic_coherence)\n",
    "\n",
    "    # from pprint import pprint\n",
    "    # pprint(top_topics)\n",
    "\n",
    "    return modelo"
   ]
  },
  {
   "cell_type": "code",
   "execution_count": 75,
   "id": "2850ccb1",
   "metadata": {},
   "outputs": [],
   "source": [
    "#Funcion  que hace correr el modelo - esto hace correr todo lo demas.\n",
    "def run(guardar=True):\n",
    "    # GENERACIÓN DE CORPUS Y DICCIONARIO\n",
    "    print(\"Calculando bag of words\")\n",
    "    rdo_pipe_bow = pipeline_bag_of_words(datos)\n",
    "    if guardar:\n",
    "        if not os.path.exists('diccionarios'):\n",
    "            os.makedirs('diccionarios')\n",
    "        rdo_pipe_bow[\"dictionary\"].save(\"./diccionarios/diccionario_gensim\")\n",
    "        if not os.path.exists('modelos'):\n",
    "            os.makedirs('modelos')\n",
    "        MmCorpus.serialize(\"./modelos/corpus_gensim.mm\",rdo_pipe_bow[\"corpus\"])\n",
    "    # ENTRENAMIENTO DEL MODELO\n",
    "    print(\"Entrenando lda\")\n",
    "    modelo = entrenar_lda(rdo_pipe_bow)\n",
    "    if guardar:\n",
    "        modelo.save(\"./modelos/LDA_gensim\")\n",
    "    return modelo"
   ]
  },
  {
   "cell_type": "code",
   "execution_count": 164,
   "id": "cb556b31",
   "metadata": {},
   "outputs": [
    {
     "name": "stdout",
     "output_type": "stream",
     "text": [
      "Calculando bag of words\n",
      "Entrenando lda\n"
     ]
    }
   ],
   "source": [
    "modelo = run()"
   ]
  },
  {
   "cell_type": "code",
   "execution_count": 167,
   "id": "c8a6f62e",
   "metadata": {},
   "outputs": [
    {
     "data": {
      "text/plain": [
       "[(0,\n",
       "  '0.217*\"tenis\" + 0.066*\"masculino\" + 0.053*\"feminino\" + 0.042*\"preto\" + 0.039*\"infantil\" + 0.034*\"original\" + 0.033*\"sapatenis\" + 0.028*\"casual\" + 0.019*\"couro\" + 0.019*\"olympikus\"'),\n",
       " (1,\n",
       "  '0.144*\"tenis\" + 0.107*\"feminino\" + 0.055*\"de\" + 0.045*\"casual\" + 0.042*\"slip\" + 0.039*\"on\" + 0.032*\"com\" + 0.019*\"plataforma\" + 0.016*\"pares\" + 0.015*\"via\"'),\n",
       " (2,\n",
       "  '0.107*\"bicicleta\" + 0.080*\"aro\" + 0.045*\"sapatilha\" + 0.037*\"usthemp\" + 0.031*\"tv\" + 0.030*\"bike\" + 0.025*\"nike\" + 0.024*\"mtb\" + 0.021*\"shimano\" + 0.020*\"tematico\"')]"
      ]
     },
     "execution_count": 167,
     "metadata": {},
     "output_type": "execute_result"
    }
   ],
   "source": [
    "modelo.show_topics()"
   ]
  },
  {
   "cell_type": "markdown",
   "id": "e0da50bd",
   "metadata": {},
   "source": [
    "# Evaluacion modelo"
   ]
  },
  {
   "cell_type": "code",
   "execution_count": 161,
   "id": "cf34c90c",
   "metadata": {},
   "outputs": [],
   "source": [
    "from gensim.models.coherencemodel import CoherenceModel"
   ]
  },
  {
   "cell_type": "code",
   "execution_count": 165,
   "id": "15a9c3f5",
   "metadata": {},
   "outputs": [],
   "source": [
    "corpus = MmCorpus('./modelos/corpus_gensim.mm')\n",
    "lda = LdaModel.load('./modelos/LDA_gensim')\n",
    "dictionary = Dictionary.load('./diccionarios/diccionario_gensim')"
   ]
  },
  {
   "cell_type": "code",
   "execution_count": 166,
   "id": "0e222299",
   "metadata": {},
   "outputs": [
    {
     "name": "stdout",
     "output_type": "stream",
     "text": [
      "\n",
      "Coherence Score:  0.37680018204526555\n"
     ]
    }
   ],
   "source": [
    "# Original\n",
    "coherence_model_lda = CoherenceModel(model=lda,texts = datos.docs, dictionary=dictionary, coherence='c_v')\n",
    "coherence_lda = coherence_model_lda.get_coherence() #_per_topic()\n",
    "print('\\nCoherence Score: ', coherence_lda)"
   ]
  },
  {
   "cell_type": "markdown",
   "id": "33c1d9c6",
   "metadata": {},
   "source": [
    "# Test"
   ]
  },
  {
   "cell_type": "code",
   "execution_count": null,
   "id": "c1d7e053",
   "metadata": {},
   "outputs": [],
   "source": [
    "test"
   ]
  },
  {
   "cell_type": "code",
   "execution_count": 178,
   "id": "3eda0bd0",
   "metadata": {},
   "outputs": [],
   "source": [
    "test['docs'] = test['ITE_ITEM_TITLE'].apply(lambda x: pipeline_data_prep_nlp(x))"
   ]
  },
  {
   "cell_type": "code",
   "execution_count": 180,
   "id": "85174943",
   "metadata": {},
   "outputs": [],
   "source": [
    "test_corpus = [dictionary.doc2bow(doc) for doc in test['docs']]"
   ]
  },
  {
   "cell_type": "code",
   "execution_count": 82,
   "id": "1291402a",
   "metadata": {},
   "outputs": [],
   "source": [
    "def topic_document(modelo,corpus):\n",
    "    return [modelo.get_document_topics(item) for item in corpus]\n",
    "    ##get_document_topics = [modelo.get_document_topics(item) for item in corpus]\n",
    "    ##topico_document = []\n",
    "    ##for doc in get_document_topics:\n",
    "    ##    diccio = dict(doc)\n",
    "    ##    maximo = max(diccio.values())\n",
    "    ##    indice = list(diccio.values()).index(maximo)\n",
    "    ##    topico = list(diccio.keys())[indice]\n",
    "    ##    topico_document.append(topico)\n",
    "    ##return topico_document"
   ]
  },
  {
   "cell_type": "code",
   "execution_count": 181,
   "id": "94d5e5e2",
   "metadata": {},
   "outputs": [],
   "source": [
    "topico_documento = topic_document(modelo,test_corpus)\n",
    "test['topico'] = topico_documento"
   ]
  },
  {
   "cell_type": "code",
   "execution_count": 183,
   "id": "4abff844",
   "metadata": {},
   "outputs": [
    {
     "data": {
      "text/html": [
       "<div>\n",
       "<style scoped>\n",
       "    .dataframe tbody tr th:only-of-type {\n",
       "        vertical-align: middle;\n",
       "    }\n",
       "\n",
       "    .dataframe tbody tr th {\n",
       "        vertical-align: top;\n",
       "    }\n",
       "\n",
       "    .dataframe thead th {\n",
       "        text-align: right;\n",
       "    }\n",
       "</style>\n",
       "<table border=\"1\" class=\"dataframe\">\n",
       "  <thead>\n",
       "    <tr style=\"text-align: right;\">\n",
       "      <th></th>\n",
       "      <th>ITE_ITEM_TITLE</th>\n",
       "      <th>docs</th>\n",
       "      <th>topico</th>\n",
       "    </tr>\n",
       "  </thead>\n",
       "  <tbody>\n",
       "    <tr>\n",
       "      <th>0</th>\n",
       "      <td>Tênis Olympikus Esporte Valente - Masculino Kids</td>\n",
       "      <td>[tenis, olympikus, esporte, valente, masculino...</td>\n",
       "      <td>[(0, 0.948939), (1, 0.029321205), (2, 0.021739...</td>\n",
       "    </tr>\n",
       "    <tr>\n",
       "      <th>1</th>\n",
       "      <td>Bicicleta Barra Forte Samy C/ 6 Marchas Cubo C...</td>\n",
       "      <td>[bicicleta, barra, forte, samy, marchas, cubo,...</td>\n",
       "      <td>[(0, 0.17528471), (1, 0.060834836), (2, 0.7638...</td>\n",
       "    </tr>\n",
       "    <tr>\n",
       "      <th>2</th>\n",
       "      <td>Tênis Usthemp Slip-on Temático - Labrador 2</td>\n",
       "      <td>[tenis, usthemp, slip, on, tematico, labrador]</td>\n",
       "      <td>[(0, 0.10369413), (1, 0.5287309), (2, 0.367574...</td>\n",
       "    </tr>\n",
       "    <tr>\n",
       "      <th>3</th>\n",
       "      <td>Tênis Casual Feminino Moleca Tecido Tie Dye</td>\n",
       "      <td>[tenis, casual, feminino, moleca, tecido, tie,...</td>\n",
       "      <td>[(0, 0.6888141), (1, 0.29503244), (2, 0.016153...</td>\n",
       "    </tr>\n",
       "    <tr>\n",
       "      <th>4</th>\n",
       "      <td>Tênis Star Baby Sapatinho Conforto + Brinde</td>\n",
       "      <td>[tenis, star, baby, sapatinho, conforto, brinde]</td>\n",
       "      <td>[(0, 0.9488154), (1, 0.029432222), (2, 0.02175...</td>\n",
       "    </tr>\n",
       "  </tbody>\n",
       "</table>\n",
       "</div>"
      ],
      "text/plain": [
       "                                      ITE_ITEM_TITLE  \\\n",
       "0   Tênis Olympikus Esporte Valente - Masculino Kids   \n",
       "1  Bicicleta Barra Forte Samy C/ 6 Marchas Cubo C...   \n",
       "2       Tênis Usthemp Slip-on Temático - Labrador 2   \n",
       "3        Tênis Casual Feminino Moleca Tecido Tie Dye   \n",
       "4        Tênis Star Baby Sapatinho Conforto + Brinde   \n",
       "\n",
       "                                                docs  \\\n",
       "0  [tenis, olympikus, esporte, valente, masculino...   \n",
       "1  [bicicleta, barra, forte, samy, marchas, cubo,...   \n",
       "2     [tenis, usthemp, slip, on, tematico, labrador]   \n",
       "3  [tenis, casual, feminino, moleca, tecido, tie,...   \n",
       "4   [tenis, star, baby, sapatinho, conforto, brinde]   \n",
       "\n",
       "                                              topico  \n",
       "0  [(0, 0.948939), (1, 0.029321205), (2, 0.021739...  \n",
       "1  [(0, 0.17528471), (1, 0.060834836), (2, 0.7638...  \n",
       "2  [(0, 0.10369413), (1, 0.5287309), (2, 0.367574...  \n",
       "3  [(0, 0.6888141), (1, 0.29503244), (2, 0.016153...  \n",
       "4  [(0, 0.9488154), (1, 0.029432222), (2, 0.02175...  "
      ]
     },
     "execution_count": 183,
     "metadata": {},
     "output_type": "execute_result"
    }
   ],
   "source": [
    "test.head()"
   ]
  },
  {
   "cell_type": "code",
   "execution_count": 184,
   "id": "68592593",
   "metadata": {},
   "outputs": [],
   "source": [
    "from gensim.matutils import jensen_shannon"
   ]
  },
  {
   "cell_type": "code",
   "execution_count": 185,
   "id": "3fd06ea4",
   "metadata": {},
   "outputs": [],
   "source": [
    "def calcular_jensen_shannon_sim_doc_doc(doc_dist1, doc_dist2):\n",
    "    \"\"\"Calcula la distancia Jensen Shannon entre dos documentos.\n",
    "    \"\"\"\n",
    "    return jensen_shannon(doc_dist1, doc_dist2)"
   ]
  },
  {
   "cell_type": "code",
   "execution_count": 186,
   "id": "6bdbc627",
   "metadata": {},
   "outputs": [],
   "source": [
    "Comparacion = pd.DataFrame({'Item1':[],'Item2':[],'Score Similitud':[]})"
   ]
  },
  {
   "cell_type": "code",
   "execution_count": 231,
   "id": "345cfe03",
   "metadata": {},
   "outputs": [],
   "source": [
    "import warnings\n",
    "warnings.filterwarnings(\"ignore\")\n",
    "import itertools"
   ]
  },
  {
   "cell_type": "code",
   "execution_count": 261,
   "id": "87a28202",
   "metadata": {
    "scrolled": false
   },
   "outputs": [],
   "source": [
    "#No corre tarda demasiado\n",
    "def similitud(datos):\n",
    "    Comparacion = pd.DataFrame({'Item1':[],'Item2':[],'Score Similitud':[]})\n",
    "    for a, b in itertools.combinations(list(datos.index), 2):\n",
    "        simil = calcular_jensen_shannon_sim_doc_doc(datos['topico'].iloc[a],datos['topico'].iloc[b])\n",
    "        fila = {'Item1':datos['ITE_ITEM_TITLE'].iloc[a],\n",
    "                'Item2':datos['ITE_ITEM_TITLE'].iloc[b],\n",
    "               'Score Similitud': simil}\n",
    "        #if simil > 0.5:\n",
    "        Comparacion = Comparacion.append(fila, ignore_index=True)\n",
    "    return Comparacion"
   ]
  },
  {
   "cell_type": "code",
   "execution_count": 262,
   "id": "de54d68b",
   "metadata": {},
   "outputs": [],
   "source": [
    "test1 = similitud(df_test1)"
   ]
  },
  {
   "cell_type": "code",
   "execution_count": 263,
   "id": "b4b2ed59",
   "metadata": {},
   "outputs": [
    {
     "data": {
      "text/html": [
       "<div>\n",
       "<style scoped>\n",
       "    .dataframe tbody tr th:only-of-type {\n",
       "        vertical-align: middle;\n",
       "    }\n",
       "\n",
       "    .dataframe tbody tr th {\n",
       "        vertical-align: top;\n",
       "    }\n",
       "\n",
       "    .dataframe thead th {\n",
       "        text-align: right;\n",
       "    }\n",
       "</style>\n",
       "<table border=\"1\" class=\"dataframe\">\n",
       "  <thead>\n",
       "    <tr style=\"text-align: right;\">\n",
       "      <th></th>\n",
       "      <th>Item1</th>\n",
       "      <th>Item2</th>\n",
       "      <th>Score Similitud</th>\n",
       "    </tr>\n",
       "  </thead>\n",
       "  <tbody>\n",
       "    <tr>\n",
       "      <th>0</th>\n",
       "      <td>Tv LG 50  Plasma Com Defeito - 50pb650b</td>\n",
       "      <td>Tv Sony Trinitron Wega 29 Polegadas</td>\n",
       "      <td>0.002953</td>\n",
       "    </tr>\n",
       "  </tbody>\n",
       "</table>\n",
       "</div>"
      ],
      "text/plain": [
       "                                     Item1  \\\n",
       "0  Tv LG 50  Plasma Com Defeito - 50pb650b   \n",
       "\n",
       "                                 Item2  Score Similitud  \n",
       "0  Tv Sony Trinitron Wega 29 Polegadas         0.002953  "
      ]
     },
     "execution_count": 263,
     "metadata": {},
     "output_type": "execute_result"
    }
   ],
   "source": [
    "test1"
   ]
  },
  {
   "cell_type": "code",
   "execution_count": 264,
   "id": "6f511ca7",
   "metadata": {},
   "outputs": [],
   "source": [
    "df_test2 = test[test['filtro']==2].reset_index()"
   ]
  },
  {
   "cell_type": "code",
   "execution_count": null,
   "id": "4c0de3b9",
   "metadata": {},
   "outputs": [],
   "source": [
    "test2 = similitud(df_test2)"
   ]
  },
  {
   "cell_type": "code",
   "execution_count": 268,
   "id": "0d980de2",
   "metadata": {},
   "outputs": [],
   "source": [
    "df_test3 = test[(test['filtro']==3) | (test['filtro']==0)].reset_index()"
   ]
  },
  {
   "cell_type": "code",
   "execution_count": null,
   "id": "3a4f35cf",
   "metadata": {},
   "outputs": [],
   "source": [
    "test3 = similitud(df_test3)"
   ]
  },
  {
   "cell_type": "markdown",
   "id": "a3077b05",
   "metadata": {},
   "source": [
    "# PRUEBAS"
   ]
  },
  {
   "cell_type": "code",
   "execution_count": 192,
   "id": "2ef5bc05",
   "metadata": {},
   "outputs": [
    {
     "data": {
      "text/html": [
       "<div>\n",
       "<style scoped>\n",
       "    .dataframe tbody tr th:only-of-type {\n",
       "        vertical-align: middle;\n",
       "    }\n",
       "\n",
       "    .dataframe tbody tr th {\n",
       "        vertical-align: top;\n",
       "    }\n",
       "\n",
       "    .dataframe thead th {\n",
       "        text-align: right;\n",
       "    }\n",
       "</style>\n",
       "<table border=\"1\" class=\"dataframe\">\n",
       "  <thead>\n",
       "    <tr style=\"text-align: right;\">\n",
       "      <th></th>\n",
       "      <th>ITE_ITEM_TITLE</th>\n",
       "      <th>docs</th>\n",
       "      <th>topico</th>\n",
       "    </tr>\n",
       "  </thead>\n",
       "  <tbody>\n",
       "    <tr>\n",
       "      <th>0</th>\n",
       "      <td>Tênis Ascension Posh Masculino - Preto E Verme...</td>\n",
       "      <td>[tenis, ascension, posh, masculino, preto, ver...</td>\n",
       "      <td>[(0, 0.92999035), (1, 0.042120438), (2, 0.0278...</td>\n",
       "    </tr>\n",
       "    <tr>\n",
       "      <th>1</th>\n",
       "      <td>Tenis Para Caminhada Super Levinho Spider Corr...</td>\n",
       "      <td>[tenis, para, caminhada, super, levinho, spide...</td>\n",
       "      <td>[(0, 0.9517051), (1, 0.028992843), (2, 0.01930...</td>\n",
       "    </tr>\n",
       "    <tr>\n",
       "      <th>2</th>\n",
       "      <td>Tênis Feminino Le Parc Hocks Black/ice Origina...</td>\n",
       "      <td>[tenis, feminino, le, parc, hocks, black, ice,...</td>\n",
       "      <td>[(0, 0.9629455), (1, 0.022290116), (2, 0.01476...</td>\n",
       "    </tr>\n",
       "    <tr>\n",
       "      <th>3</th>\n",
       "      <td>Tênis Olympikus Esportivo Academia Nova Tendên...</td>\n",
       "      <td>[tenis, olympikus, esportivo, academia, nova, ...</td>\n",
       "      <td>[(0, 0.95131135), (1, 0.029356137), (2, 0.0193...</td>\n",
       "    </tr>\n",
       "    <tr>\n",
       "      <th>4</th>\n",
       "      <td>Inteligente Led Bicicleta Tauda Luz Usb Bicicl...</td>\n",
       "      <td>[inteligente, led, bicicleta, tauda, luz, usb,...</td>\n",
       "      <td>[(0, 0.2638302), (1, 0.034209788), (2, 0.70195...</td>\n",
       "    </tr>\n",
       "  </tbody>\n",
       "</table>\n",
       "</div>"
      ],
      "text/plain": [
       "                                      ITE_ITEM_TITLE  \\\n",
       "0  Tênis Ascension Posh Masculino - Preto E Verme...   \n",
       "1  Tenis Para Caminhada Super Levinho Spider Corr...   \n",
       "2  Tênis Feminino Le Parc Hocks Black/ice Origina...   \n",
       "3  Tênis Olympikus Esportivo Academia Nova Tendên...   \n",
       "4  Inteligente Led Bicicleta Tauda Luz Usb Bicicl...   \n",
       "\n",
       "                                                docs  \\\n",
       "0  [tenis, ascension, posh, masculino, preto, ver...   \n",
       "1  [tenis, para, caminhada, super, levinho, spide...   \n",
       "2  [tenis, feminino, le, parc, hocks, black, ice,...   \n",
       "3  [tenis, olympikus, esportivo, academia, nova, ...   \n",
       "4  [inteligente, led, bicicleta, tauda, luz, usb,...   \n",
       "\n",
       "                                              topico  \n",
       "0  [(0, 0.92999035), (1, 0.042120438), (2, 0.0278...  \n",
       "1  [(0, 0.9517051), (1, 0.028992843), (2, 0.01930...  \n",
       "2  [(0, 0.9629455), (1, 0.022290116), (2, 0.01476...  \n",
       "3  [(0, 0.95131135), (1, 0.029356137), (2, 0.0193...  \n",
       "4  [(0, 0.2638302), (1, 0.034209788), (2, 0.70195...  "
      ]
     },
     "execution_count": 192,
     "metadata": {},
     "output_type": "execute_result"
    }
   ],
   "source": [
    "datos.head()"
   ]
  },
  {
   "cell_type": "code",
   "execution_count": 222,
   "id": "58658ca7",
   "metadata": {},
   "outputs": [],
   "source": [
    "listado = []\n",
    "for x in datos['docs']:\n",
    "    if 'tv' in x:\n",
    "        listado.append(1)\n",
    "    elif 'bicicleta' in x:\n",
    "        listado.append(2)\n",
    "    elif 'tenis' in x or 'sapatenis' in x or 'sapatilha' in x or 'sapato' in x or 'botinho' in x:\n",
    "        listado.append(3)\n",
    "    else:\n",
    "        listado.append(0)"
   ]
  },
  {
   "cell_type": "code",
   "execution_count": 219,
   "id": "dfe2ab36",
   "metadata": {},
   "outputs": [],
   "source": [
    "datos['filtro'] = listado"
   ]
  },
  {
   "cell_type": "code",
   "execution_count": 204,
   "id": "cdb4f2e7",
   "metadata": {},
   "outputs": [
    {
     "data": {
      "text/html": [
       "<div>\n",
       "<style scoped>\n",
       "    .dataframe tbody tr th:only-of-type {\n",
       "        vertical-align: middle;\n",
       "    }\n",
       "\n",
       "    .dataframe tbody tr th {\n",
       "        vertical-align: top;\n",
       "    }\n",
       "\n",
       "    .dataframe thead th {\n",
       "        text-align: right;\n",
       "    }\n",
       "</style>\n",
       "<table border=\"1\" class=\"dataframe\">\n",
       "  <thead>\n",
       "    <tr style=\"text-align: right;\">\n",
       "      <th></th>\n",
       "      <th>ITE_ITEM_TITLE</th>\n",
       "      <th>docs</th>\n",
       "      <th>topico</th>\n",
       "      <th>filtro</th>\n",
       "    </tr>\n",
       "  </thead>\n",
       "  <tbody>\n",
       "    <tr>\n",
       "      <th>0</th>\n",
       "      <td>Tênis Ascension Posh Masculino - Preto E Verme...</td>\n",
       "      <td>[tenis, ascension, posh, masculino, preto, ver...</td>\n",
       "      <td>[(0, 0.92999035), (1, 0.042120438), (2, 0.0278...</td>\n",
       "      <td>3</td>\n",
       "    </tr>\n",
       "    <tr>\n",
       "      <th>1</th>\n",
       "      <td>Tenis Para Caminhada Super Levinho Spider Corr...</td>\n",
       "      <td>[tenis, para, caminhada, super, levinho, spide...</td>\n",
       "      <td>[(0, 0.9517051), (1, 0.028992843), (2, 0.01930...</td>\n",
       "      <td>3</td>\n",
       "    </tr>\n",
       "    <tr>\n",
       "      <th>2</th>\n",
       "      <td>Tênis Feminino Le Parc Hocks Black/ice Origina...</td>\n",
       "      <td>[tenis, feminino, le, parc, hocks, black, ice,...</td>\n",
       "      <td>[(0, 0.9629455), (1, 0.022290116), (2, 0.01476...</td>\n",
       "      <td>3</td>\n",
       "    </tr>\n",
       "    <tr>\n",
       "      <th>3</th>\n",
       "      <td>Tênis Olympikus Esportivo Academia Nova Tendên...</td>\n",
       "      <td>[tenis, olympikus, esportivo, academia, nova, ...</td>\n",
       "      <td>[(0, 0.95131135), (1, 0.029356137), (2, 0.0193...</td>\n",
       "      <td>3</td>\n",
       "    </tr>\n",
       "    <tr>\n",
       "      <th>4</th>\n",
       "      <td>Inteligente Led Bicicleta Tauda Luz Usb Bicicl...</td>\n",
       "      <td>[inteligente, led, bicicleta, tauda, luz, usb,...</td>\n",
       "      <td>[(0, 0.2638302), (1, 0.034209788), (2, 0.70195...</td>\n",
       "      <td>2</td>\n",
       "    </tr>\n",
       "  </tbody>\n",
       "</table>\n",
       "</div>"
      ],
      "text/plain": [
       "                                      ITE_ITEM_TITLE  \\\n",
       "0  Tênis Ascension Posh Masculino - Preto E Verme...   \n",
       "1  Tenis Para Caminhada Super Levinho Spider Corr...   \n",
       "2  Tênis Feminino Le Parc Hocks Black/ice Origina...   \n",
       "3  Tênis Olympikus Esportivo Academia Nova Tendên...   \n",
       "4  Inteligente Led Bicicleta Tauda Luz Usb Bicicl...   \n",
       "\n",
       "                                                docs  \\\n",
       "0  [tenis, ascension, posh, masculino, preto, ver...   \n",
       "1  [tenis, para, caminhada, super, levinho, spide...   \n",
       "2  [tenis, feminino, le, parc, hocks, black, ice,...   \n",
       "3  [tenis, olympikus, esportivo, academia, nova, ...   \n",
       "4  [inteligente, led, bicicleta, tauda, luz, usb,...   \n",
       "\n",
       "                                              topico  filtro  \n",
       "0  [(0, 0.92999035), (1, 0.042120438), (2, 0.0278...       3  \n",
       "1  [(0, 0.9517051), (1, 0.028992843), (2, 0.01930...       3  \n",
       "2  [(0, 0.9629455), (1, 0.022290116), (2, 0.01476...       3  \n",
       "3  [(0, 0.95131135), (1, 0.029356137), (2, 0.0193...       3  \n",
       "4  [(0, 0.2638302), (1, 0.034209788), (2, 0.70195...       2  "
      ]
     },
     "execution_count": 204,
     "metadata": {},
     "output_type": "execute_result"
    }
   ],
   "source": [
    "datos.head()"
   ]
  },
  {
   "cell_type": "code",
   "execution_count": 223,
   "id": "af6ce809",
   "metadata": {},
   "outputs": [
    {
     "data": {
      "text/plain": [
       "3    24890\n",
       "0     2246\n",
       "2     2232\n",
       "1      632\n",
       "dtype: int64"
      ]
     },
     "execution_count": 223,
     "metadata": {},
     "output_type": "execute_result"
    }
   ],
   "source": [
    "pd.Series(listado).value_counts()"
   ]
  },
  {
   "cell_type": "code",
   "execution_count": 225,
   "id": "7b126a15",
   "metadata": {},
   "outputs": [
    {
     "data": {
      "text/html": [
       "<div>\n",
       "<style scoped>\n",
       "    .dataframe tbody tr th:only-of-type {\n",
       "        vertical-align: middle;\n",
       "    }\n",
       "\n",
       "    .dataframe tbody tr th {\n",
       "        vertical-align: top;\n",
       "    }\n",
       "\n",
       "    .dataframe thead th {\n",
       "        text-align: right;\n",
       "    }\n",
       "</style>\n",
       "<table border=\"1\" class=\"dataframe\">\n",
       "  <thead>\n",
       "    <tr style=\"text-align: right;\">\n",
       "      <th></th>\n",
       "      <th>ITE_ITEM_TITLE</th>\n",
       "      <th>docs</th>\n",
       "      <th>topico</th>\n",
       "      <th>filtro</th>\n",
       "    </tr>\n",
       "  </thead>\n",
       "  <tbody>\n",
       "    <tr>\n",
       "      <th>7</th>\n",
       "      <td>Tv Samsung Qled 8k Q800t Semi Nova</td>\n",
       "      <td>[tv, samsung, qled, qt, semi, nova]</td>\n",
       "      <td>[(0, 0.034811683), (1, 0.03421061), (2, 0.9309...</td>\n",
       "      <td>1</td>\n",
       "    </tr>\n",
       "    <tr>\n",
       "      <th>18</th>\n",
       "      <td>Smart Tv Led 40 Philco Ptv40e60sn Full Hd Conv...</td>\n",
       "      <td>[smart, tv, led, philco, ptvesn, full, hd, con...</td>\n",
       "      <td>[(0, 0.02571069), (1, 0.025093425), (2, 0.9491...</td>\n",
       "      <td>1</td>\n",
       "    </tr>\n",
       "    <tr>\n",
       "      <th>104</th>\n",
       "      <td>Placa De Comando (power)+ Sensor Tv Lg39ln5400</td>\n",
       "      <td>[placa, de, comando, power, sensor, tv, lgln]</td>\n",
       "      <td>[(0, 0.035106067), (1, 0.03421408), (2, 0.9306...</td>\n",
       "      <td>1</td>\n",
       "    </tr>\n",
       "    <tr>\n",
       "      <th>171</th>\n",
       "      <td>Tv Digital Portátil 14 Polegadas Led Monitor H...</td>\n",
       "      <td>[tv, digital, portatil, polegadas, led, monito...</td>\n",
       "      <td>[(0, 0.018320266), (1, 0.017929021), (2, 0.963...</td>\n",
       "      <td>1</td>\n",
       "    </tr>\n",
       "    <tr>\n",
       "      <th>318</th>\n",
       "      <td>Tv De Plasma LG 42pn4600 - Tv Não Liga Vendo E...</td>\n",
       "      <td>[tv, de, plasma, lg, pn, tv, nao, liga, vendo,...</td>\n",
       "      <td>[(0, 0.022627965), (1, 0.02214477), (2, 0.9552...</td>\n",
       "      <td>1</td>\n",
       "    </tr>\n",
       "    <tr>\n",
       "      <th>...</th>\n",
       "      <td>...</td>\n",
       "      <td>...</td>\n",
       "      <td>...</td>\n",
       "      <td>...</td>\n",
       "    </tr>\n",
       "    <tr>\n",
       "      <th>29678</th>\n",
       "      <td>Smart Tv LG 65'' 4k Nanocell 65nano75 Thinq Ai...</td>\n",
       "      <td>[smart, tv, lg, nanocell, nano, thinq, ai, sma...</td>\n",
       "      <td>[(0, 0.022487517), (1, 0.02214438), (2, 0.9553...</td>\n",
       "      <td>1</td>\n",
       "    </tr>\n",
       "    <tr>\n",
       "      <th>29732</th>\n",
       "      <td>Oferta Smart Tv Samsung Led 4k 85  100v/240v</td>\n",
       "      <td>[oferta, smart, tv, samsung, led]</td>\n",
       "      <td>[(0, 0.030217355), (1, 0.029726744), (2, 0.940...</td>\n",
       "      <td>1</td>\n",
       "    </tr>\n",
       "    <tr>\n",
       "      <th>29958</th>\n",
       "      <td>Tv 42 Pol Led LG</td>\n",
       "      <td>[tv, pol, led, lg]</td>\n",
       "      <td>[(0, 0.04275946), (1, 0.04180293), (2, 0.91543...</td>\n",
       "      <td>1</td>\n",
       "    </tr>\n",
       "    <tr>\n",
       "      <th>29974</th>\n",
       "      <td>Tv Semp-toshiba 10 - Antiga - Sucata</td>\n",
       "      <td>[tv, semp, toshiba, antiga, sucata]</td>\n",
       "      <td>[(0, 0.04245456), (1, 0.04180668), (2, 0.91573...</td>\n",
       "      <td>1</td>\n",
       "    </tr>\n",
       "    <tr>\n",
       "      <th>29983</th>\n",
       "      <td>Smart Tv LG 65 4k Nanocell 65nano75 Hdmi Ai Pr...</td>\n",
       "      <td>[smart, tv, lg, nanocell, nano, hdmi, ai, pret...</td>\n",
       "      <td>[(0, 0.022571279), (1, 0.022216082), (2, 0.955...</td>\n",
       "      <td>1</td>\n",
       "    </tr>\n",
       "  </tbody>\n",
       "</table>\n",
       "<p>632 rows × 4 columns</p>\n",
       "</div>"
      ],
      "text/plain": [
       "                                          ITE_ITEM_TITLE  \\\n",
       "7                     Tv Samsung Qled 8k Q800t Semi Nova   \n",
       "18     Smart Tv Led 40 Philco Ptv40e60sn Full Hd Conv...   \n",
       "104       Placa De Comando (power)+ Sensor Tv Lg39ln5400   \n",
       "171    Tv Digital Portátil 14 Polegadas Led Monitor H...   \n",
       "318    Tv De Plasma LG 42pn4600 - Tv Não Liga Vendo E...   \n",
       "...                                                  ...   \n",
       "29678  Smart Tv LG 65'' 4k Nanocell 65nano75 Thinq Ai...   \n",
       "29732       Oferta Smart Tv Samsung Led 4k 85  100v/240v   \n",
       "29958                                  Tv 42 Pol Led LG    \n",
       "29974              Tv Semp-toshiba 10 - Antiga - Sucata    \n",
       "29983  Smart Tv LG 65 4k Nanocell 65nano75 Hdmi Ai Pr...   \n",
       "\n",
       "                                                    docs  \\\n",
       "7                    [tv, samsung, qled, qt, semi, nova]   \n",
       "18     [smart, tv, led, philco, ptvesn, full, hd, con...   \n",
       "104        [placa, de, comando, power, sensor, tv, lgln]   \n",
       "171    [tv, digital, portatil, polegadas, led, monito...   \n",
       "318    [tv, de, plasma, lg, pn, tv, nao, liga, vendo,...   \n",
       "...                                                  ...   \n",
       "29678  [smart, tv, lg, nanocell, nano, thinq, ai, sma...   \n",
       "29732                  [oferta, smart, tv, samsung, led]   \n",
       "29958                                 [tv, pol, led, lg]   \n",
       "29974                [tv, semp, toshiba, antiga, sucata]   \n",
       "29983  [smart, tv, lg, nanocell, nano, hdmi, ai, pret...   \n",
       "\n",
       "                                                  topico  filtro  \n",
       "7      [(0, 0.034811683), (1, 0.03421061), (2, 0.9309...       1  \n",
       "18     [(0, 0.02571069), (1, 0.025093425), (2, 0.9491...       1  \n",
       "104    [(0, 0.035106067), (1, 0.03421408), (2, 0.9306...       1  \n",
       "171    [(0, 0.018320266), (1, 0.017929021), (2, 0.963...       1  \n",
       "318    [(0, 0.022627965), (1, 0.02214477), (2, 0.9552...       1  \n",
       "...                                                  ...     ...  \n",
       "29678  [(0, 0.022487517), (1, 0.02214438), (2, 0.9553...       1  \n",
       "29732  [(0, 0.030217355), (1, 0.029726744), (2, 0.940...       1  \n",
       "29958  [(0, 0.04275946), (1, 0.04180293), (2, 0.91543...       1  \n",
       "29974  [(0, 0.04245456), (1, 0.04180668), (2, 0.91573...       1  \n",
       "29983  [(0, 0.022571279), (1, 0.022216082), (2, 0.955...       1  \n",
       "\n",
       "[632 rows x 4 columns]"
      ]
     },
     "execution_count": 225,
     "metadata": {},
     "output_type": "execute_result"
    }
   ],
   "source": [
    "datos[datos['filtro']==1]"
   ]
  },
  {
   "cell_type": "code",
   "execution_count": 226,
   "id": "4f75494e",
   "metadata": {},
   "outputs": [
    {
     "data": {
      "text/html": [
       "<div>\n",
       "<style scoped>\n",
       "    .dataframe tbody tr th:only-of-type {\n",
       "        vertical-align: middle;\n",
       "    }\n",
       "\n",
       "    .dataframe tbody tr th {\n",
       "        vertical-align: top;\n",
       "    }\n",
       "\n",
       "    .dataframe thead th {\n",
       "        text-align: right;\n",
       "    }\n",
       "</style>\n",
       "<table border=\"1\" class=\"dataframe\">\n",
       "  <thead>\n",
       "    <tr style=\"text-align: right;\">\n",
       "      <th></th>\n",
       "      <th>ITE_ITEM_TITLE</th>\n",
       "      <th>docs</th>\n",
       "      <th>topico</th>\n",
       "    </tr>\n",
       "  </thead>\n",
       "  <tbody>\n",
       "    <tr>\n",
       "      <th>0</th>\n",
       "      <td>Tênis Olympikus Esporte Valente - Masculino Kids</td>\n",
       "      <td>[tenis, olympikus, esporte, valente, masculino...</td>\n",
       "      <td>[(0, 0.948939), (1, 0.029321205), (2, 0.021739...</td>\n",
       "    </tr>\n",
       "    <tr>\n",
       "      <th>1</th>\n",
       "      <td>Bicicleta Barra Forte Samy C/ 6 Marchas Cubo C...</td>\n",
       "      <td>[bicicleta, barra, forte, samy, marchas, cubo,...</td>\n",
       "      <td>[(0, 0.17528471), (1, 0.060834836), (2, 0.7638...</td>\n",
       "    </tr>\n",
       "    <tr>\n",
       "      <th>2</th>\n",
       "      <td>Tênis Usthemp Slip-on Temático - Labrador 2</td>\n",
       "      <td>[tenis, usthemp, slip, on, tematico, labrador]</td>\n",
       "      <td>[(0, 0.10369413), (1, 0.5287309), (2, 0.367574...</td>\n",
       "    </tr>\n",
       "    <tr>\n",
       "      <th>3</th>\n",
       "      <td>Tênis Casual Feminino Moleca Tecido Tie Dye</td>\n",
       "      <td>[tenis, casual, feminino, moleca, tecido, tie,...</td>\n",
       "      <td>[(0, 0.6888141), (1, 0.29503244), (2, 0.016153...</td>\n",
       "    </tr>\n",
       "    <tr>\n",
       "      <th>4</th>\n",
       "      <td>Tênis Star Baby Sapatinho Conforto + Brinde</td>\n",
       "      <td>[tenis, star, baby, sapatinho, conforto, brinde]</td>\n",
       "      <td>[(0, 0.9488154), (1, 0.029432222), (2, 0.02175...</td>\n",
       "    </tr>\n",
       "  </tbody>\n",
       "</table>\n",
       "</div>"
      ],
      "text/plain": [
       "                                      ITE_ITEM_TITLE  \\\n",
       "0   Tênis Olympikus Esporte Valente - Masculino Kids   \n",
       "1  Bicicleta Barra Forte Samy C/ 6 Marchas Cubo C...   \n",
       "2       Tênis Usthemp Slip-on Temático - Labrador 2   \n",
       "3        Tênis Casual Feminino Moleca Tecido Tie Dye   \n",
       "4        Tênis Star Baby Sapatinho Conforto + Brinde   \n",
       "\n",
       "                                                docs  \\\n",
       "0  [tenis, olympikus, esporte, valente, masculino...   \n",
       "1  [bicicleta, barra, forte, samy, marchas, cubo,...   \n",
       "2     [tenis, usthemp, slip, on, tematico, labrador]   \n",
       "3  [tenis, casual, feminino, moleca, tecido, tie,...   \n",
       "4   [tenis, star, baby, sapatinho, conforto, brinde]   \n",
       "\n",
       "                                              topico  \n",
       "0  [(0, 0.948939), (1, 0.029321205), (2, 0.021739...  \n",
       "1  [(0, 0.17528471), (1, 0.060834836), (2, 0.7638...  \n",
       "2  [(0, 0.10369413), (1, 0.5287309), (2, 0.367574...  \n",
       "3  [(0, 0.6888141), (1, 0.29503244), (2, 0.016153...  \n",
       "4  [(0, 0.9488154), (1, 0.029432222), (2, 0.02175...  "
      ]
     },
     "execution_count": 226,
     "metadata": {},
     "output_type": "execute_result"
    }
   ],
   "source": [
    "test.head()"
   ]
  },
  {
   "cell_type": "code",
   "execution_count": 227,
   "id": "fd886255",
   "metadata": {},
   "outputs": [],
   "source": [
    "listado_test = []\n",
    "for x in test['docs']:\n",
    "    if 'tv' in x:\n",
    "        listado_test.append(1)\n",
    "    elif 'bicicleta' in x:\n",
    "        listado_test.append(2)\n",
    "    elif 'tenis' in x or 'sapatenis' in x or 'sapatilha' in x or 'sapato' in x or 'botinho' in x:\n",
    "        listado_test.append(3)\n",
    "    else:\n",
    "        listado_test.append(0)"
   ]
  },
  {
   "cell_type": "code",
   "execution_count": 228,
   "id": "18fa11fe",
   "metadata": {},
   "outputs": [
    {
     "data": {
      "text/plain": [
       "3    8340\n",
       "2     740\n",
       "0     706\n",
       "1     214\n",
       "dtype: int64"
      ]
     },
     "execution_count": 228,
     "metadata": {},
     "output_type": "execute_result"
    }
   ],
   "source": [
    "pd.Series(listado_test).value_counts()"
   ]
  },
  {
   "cell_type": "code",
   "execution_count": 229,
   "id": "cfcebcea",
   "metadata": {},
   "outputs": [],
   "source": [
    "test['filtro'] = listado_test"
   ]
  }
 ],
 "metadata": {
  "kernelspec": {
   "display_name": "Python 3 (ipykernel)",
   "language": "python",
   "name": "python3"
  },
  "language_info": {
   "codemirror_mode": {
    "name": "ipython",
    "version": 3
   },
   "file_extension": ".py",
   "mimetype": "text/x-python",
   "name": "python",
   "nbconvert_exporter": "python",
   "pygments_lexer": "ipython3",
   "version": "3.9.7"
  }
 },
 "nbformat": 4,
 "nbformat_minor": 5
}

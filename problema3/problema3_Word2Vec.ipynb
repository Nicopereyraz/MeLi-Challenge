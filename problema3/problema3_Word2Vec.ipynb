{
 "cells": [
  {
   "cell_type": "markdown",
   "id": "f048f799",
   "metadata": {},
   "source": [
    "# Preparacion de datos"
   ]
  },
  {
   "cell_type": "code",
   "execution_count": 22,
   "id": "8ed5f870",
   "metadata": {},
   "outputs": [],
   "source": [
    "import gensim\n",
    "import pandas as pd\n",
    "import numpy as np\n",
    "from sklearn.metrics.pairwise import cosine_similarity\n",
    "from unidecode import unidecode\n",
    "import itertools\n",
    "import warnings\n",
    "warnings.filterwarnings(\"ignore\")"
   ]
  },
  {
   "cell_type": "code",
   "execution_count": 7,
   "id": "18f55f63",
   "metadata": {},
   "outputs": [],
   "source": [
    "datos = pd.read_csv('../items_titles.csv')\n",
    "test = pd.read_csv('../items_titles_test.csv')"
   ]
  },
  {
   "cell_type": "code",
   "execution_count": 8,
   "id": "96b591fd",
   "metadata": {},
   "outputs": [],
   "source": [
    "#Carga de librerias\n",
    "import os, re, json\n",
    "from nltk.tokenize import RegexpTokenizer"
   ]
  },
  {
   "cell_type": "code",
   "execution_count": 9,
   "id": "6e320b74",
   "metadata": {},
   "outputs": [],
   "source": [
    "def quitar_numeros(texto):\n",
    "    return re.sub(\"([0-9])\", \"\",texto)\n",
    "\n",
    "def pasar_a_minusculas(texto):\n",
    "    return texto.lower()\n",
    "\n",
    "def tokenizar_palabras(texto):\n",
    "    tokenizer = RegexpTokenizer(r'\\w+')\n",
    "    return tokenizer.tokenize(texto)\n",
    "\n",
    "def remove_accents_word(texto):\n",
    "    return unidecode(texto)\n",
    "\n",
    "def dropeo_palabras(lista,n=2):\n",
    "    [lista.remove(x) for x in lista if len(x)<n]\n",
    "    [lista.remove(x) for x in lista if len(x)<n]\n",
    "    [lista.remove(x) for x in lista if len(x)<n]\n",
    "    return lista"
   ]
  },
  {
   "cell_type": "code",
   "execution_count": 10,
   "id": "2e988f04",
   "metadata": {},
   "outputs": [],
   "source": [
    "def pipeline_data_prep_nlp(texto):\n",
    "    texto = quitar_numeros(texto)\n",
    "    texto = pasar_a_minusculas(texto)\n",
    "    texto = remove_accents_word(texto)\n",
    "    texto = tokenizar_palabras(texto)\n",
    "    texto = dropeo_palabras(texto)\n",
    "    return texto"
   ]
  },
  {
   "cell_type": "code",
   "execution_count": 13,
   "id": "f46ac88a",
   "metadata": {},
   "outputs": [],
   "source": [
    "datos['docs'] = datos['ITE_ITEM_TITLE'].apply(lambda x: pipeline_data_prep_nlp(x))"
   ]
  },
  {
   "cell_type": "code",
   "execution_count": 14,
   "id": "8c19bf74",
   "metadata": {},
   "outputs": [],
   "source": [
    "test['docs'] = test['ITE_ITEM_TITLE'].apply(lambda x: pipeline_data_prep_nlp(x))"
   ]
  },
  {
   "cell_type": "code",
   "execution_count": null,
   "id": "b56973f2",
   "metadata": {},
   "outputs": [],
   "source": [
    "# Esto es para separar de forma manual segun los productos encontrados - no se corre por ahora\n",
    "\n",
    "listado_test = []\n",
    "for x in test['docs']:\n",
    "    if 'tv' in x:\n",
    "        listado_test.append(1)\n",
    "    elif 'bicicleta' in x:\n",
    "        listado_test.append(2)\n",
    "    elif 'tenis' in x or 'sapatenis' in x or 'sapatilha' in x or 'sapato' in x or 'botinho' in x:\n",
    "        listado_test.append(3)\n",
    "    else:\n",
    "        listado_test.append(0)\n",
    "        \n",
    "datos['filtro'] = listado"
   ]
  },
  {
   "cell_type": "markdown",
   "id": "3e9d4d12",
   "metadata": {},
   "source": [
    "# Modelo"
   ]
  },
  {
   "cell_type": "code",
   "execution_count": 15,
   "id": "8bcdb629",
   "metadata": {},
   "outputs": [],
   "source": [
    "model = gensim.models.Word2Vec(datos['docs'].to_list())"
   ]
  },
  {
   "cell_type": "code",
   "execution_count": 16,
   "id": "2b73de50",
   "metadata": {},
   "outputs": [],
   "source": [
    "def calculate_average_vector(tokens, model):\n",
    "    vectors = [model.wv[token] for token in tokens if token in model.wv]\n",
    "    if vectors:\n",
    "        return np.mean(vectors,axis=0)\n",
    "    else:\n",
    "        return None"
   ]
  },
  {
   "cell_type": "code",
   "execution_count": 17,
   "id": "65f3df65",
   "metadata": {},
   "outputs": [],
   "source": [
    "def CosineSimilarity(vector, otherPhraseVec):\n",
    "    cosine_similarity = np.dot(vector, otherPhraseVec) / (np.linalg.norm(vector) * np.linalg.norm(otherPhraseVec))\n",
    "    return cosine_similarity"
   ]
  },
  {
   "cell_type": "code",
   "execution_count": 24,
   "id": "52be360e",
   "metadata": {},
   "outputs": [],
   "source": [
    "def similitud(datos,model):\n",
    "    Comparacion = pd.DataFrame({'Item1':[],'Item2':[],'Score Similitud':[]})\n",
    "    for a, b in itertools.combinations(list(datos.index), 2):\n",
    "        try:\n",
    "            simil = CosineSimilarity(calculate_average_vector(datos.iloc[a]['docs'],model),\n",
    "                                     calculate_average_vector(datos.iloc[b]['docs'],model))\n",
    "        except TypeError:\n",
    "            simil = 0\n",
    "        \n",
    "        fila = {'Item1':datos['ITE_ITEM_TITLE'].iloc[a],\n",
    "                'Item2':datos['ITE_ITEM_TITLE'].iloc[b],\n",
    "               'Score Similitud': simil}\n",
    "        #if simil > 0.5:\n",
    "        Comparacion = Comparacion.append(fila, ignore_index=True)\n",
    "    return Comparacion"
   ]
  },
  {
   "cell_type": "code",
   "execution_count": 25,
   "id": "6997c87c",
   "metadata": {},
   "outputs": [],
   "source": [
    "resultado = similitud(test,model)"
   ]
  },
  {
   "cell_type": "code",
   "execution_count": 26,
   "id": "e6968cf0",
   "metadata": {},
   "outputs": [
    {
     "data": {
      "text/html": [
       "<div>\n",
       "<style scoped>\n",
       "    .dataframe tbody tr th:only-of-type {\n",
       "        vertical-align: middle;\n",
       "    }\n",
       "\n",
       "    .dataframe tbody tr th {\n",
       "        vertical-align: top;\n",
       "    }\n",
       "\n",
       "    .dataframe thead th {\n",
       "        text-align: right;\n",
       "    }\n",
       "</style>\n",
       "<table border=\"1\" class=\"dataframe\">\n",
       "  <thead>\n",
       "    <tr style=\"text-align: right;\">\n",
       "      <th></th>\n",
       "      <th>Item1</th>\n",
       "      <th>Item2</th>\n",
       "      <th>Score Similitud</th>\n",
       "    </tr>\n",
       "  </thead>\n",
       "  <tbody>\n",
       "    <tr>\n",
       "      <th>0</th>\n",
       "      <td>Tênis Olympikus Esporte Valente - Masculino Kids</td>\n",
       "      <td>Bicicleta Barra Forte Samy C/ 6 Marchas Cubo C...</td>\n",
       "      <td>0.249588</td>\n",
       "    </tr>\n",
       "    <tr>\n",
       "      <th>1</th>\n",
       "      <td>Tênis Olympikus Esporte Valente - Masculino Kids</td>\n",
       "      <td>Tênis Usthemp Slip-on Temático - Labrador 2</td>\n",
       "      <td>0.487543</td>\n",
       "    </tr>\n",
       "    <tr>\n",
       "      <th>2</th>\n",
       "      <td>Tênis Olympikus Esporte Valente - Masculino Kids</td>\n",
       "      <td>Tênis Casual Feminino Moleca Tecido Tie Dye</td>\n",
       "      <td>0.697491</td>\n",
       "    </tr>\n",
       "    <tr>\n",
       "      <th>3</th>\n",
       "      <td>Tênis Olympikus Esporte Valente - Masculino Kids</td>\n",
       "      <td>Tênis Star Baby Sapatinho Conforto + Brinde</td>\n",
       "      <td>0.794490</td>\n",
       "    </tr>\n",
       "    <tr>\n",
       "      <th>4</th>\n",
       "      <td>Tênis Olympikus Esporte Valente - Masculino Kids</td>\n",
       "      <td>Tênis Oakley Frequency 3.0 Preto/marrom</td>\n",
       "      <td>0.829640</td>\n",
       "    </tr>\n",
       "    <tr>\n",
       "      <th>...</th>\n",
       "      <td>...</td>\n",
       "      <td>...</td>\n",
       "      <td>...</td>\n",
       "    </tr>\n",
       "    <tr>\n",
       "      <th>1327</th>\n",
       "      <td>Tênis Olympikus Esporte Valente - Masculino Kids</td>\n",
       "      <td>Tênis Airr-maxx 95 Tn Slip Mid Totalmente Orig...</td>\n",
       "      <td>0.809466</td>\n",
       "    </tr>\n",
       "    <tr>\n",
       "      <th>1328</th>\n",
       "      <td>Tênis Olympikus Esporte Valente - Masculino Kids</td>\n",
       "      <td>Tênis Academia Super Confortável Barato Feminino</td>\n",
       "      <td>0.912450</td>\n",
       "    </tr>\n",
       "    <tr>\n",
       "      <th>1329</th>\n",
       "      <td>Tênis Olympikus Esporte Valente - Masculino Kids</td>\n",
       "      <td>Tênis Fila Disruptor Ii Premium Feminino</td>\n",
       "      <td>0.898497</td>\n",
       "    </tr>\n",
       "    <tr>\n",
       "      <th>1330</th>\n",
       "      <td>Tênis Olympikus Esporte Valente - Masculino Kids</td>\n",
       "      <td>Tênis Fila Original</td>\n",
       "      <td>0.854728</td>\n",
       "    </tr>\n",
       "    <tr>\n",
       "      <th>1331</th>\n",
       "      <td>Tênis Olympikus Esporte Valente - Masculino Kids</td>\n",
       "      <td>Tenis Masculino Botinha Get Up Six +meia+bone+...</td>\n",
       "      <td>0.910953</td>\n",
       "    </tr>\n",
       "  </tbody>\n",
       "</table>\n",
       "<p>1332 rows × 3 columns</p>\n",
       "</div>"
      ],
      "text/plain": [
       "                                                 Item1  \\\n",
       "0     Tênis Olympikus Esporte Valente - Masculino Kids   \n",
       "1     Tênis Olympikus Esporte Valente - Masculino Kids   \n",
       "2     Tênis Olympikus Esporte Valente - Masculino Kids   \n",
       "3     Tênis Olympikus Esporte Valente - Masculino Kids   \n",
       "4     Tênis Olympikus Esporte Valente - Masculino Kids   \n",
       "...                                                ...   \n",
       "1327  Tênis Olympikus Esporte Valente - Masculino Kids   \n",
       "1328  Tênis Olympikus Esporte Valente - Masculino Kids   \n",
       "1329  Tênis Olympikus Esporte Valente - Masculino Kids   \n",
       "1330  Tênis Olympikus Esporte Valente - Masculino Kids   \n",
       "1331  Tênis Olympikus Esporte Valente - Masculino Kids   \n",
       "\n",
       "                                                  Item2  Score Similitud  \n",
       "0     Bicicleta Barra Forte Samy C/ 6 Marchas Cubo C...         0.249588  \n",
       "1          Tênis Usthemp Slip-on Temático - Labrador 2         0.487543  \n",
       "2           Tênis Casual Feminino Moleca Tecido Tie Dye         0.697491  \n",
       "3           Tênis Star Baby Sapatinho Conforto + Brinde         0.794490  \n",
       "4               Tênis Oakley Frequency 3.0 Preto/marrom         0.829640  \n",
       "...                                                 ...              ...  \n",
       "1327  Tênis Airr-maxx 95 Tn Slip Mid Totalmente Orig...         0.809466  \n",
       "1328   Tênis Academia Super Confortável Barato Feminino         0.912450  \n",
       "1329           Tênis Fila Disruptor Ii Premium Feminino         0.898497  \n",
       "1330                                Tênis Fila Original         0.854728  \n",
       "1331  Tenis Masculino Botinha Get Up Six +meia+bone+...         0.910953  \n",
       "\n",
       "[1332 rows x 3 columns]"
      ]
     },
     "execution_count": 26,
     "metadata": {},
     "output_type": "execute_result"
    }
   ],
   "source": [
    "resultado"
   ]
  }
 ],
 "metadata": {
  "kernelspec": {
   "display_name": "Python 3 (ipykernel)",
   "language": "python",
   "name": "python3"
  },
  "language_info": {
   "codemirror_mode": {
    "name": "ipython",
    "version": 3
   },
   "file_extension": ".py",
   "mimetype": "text/x-python",
   "name": "python",
   "nbconvert_exporter": "python",
   "pygments_lexer": "ipython3",
   "version": "3.9.7"
  }
 },
 "nbformat": 4,
 "nbformat_minor": 5
}
